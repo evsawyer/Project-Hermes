{
 "cells": [
  {
   "cell_type": "code",
   "execution_count": null,
   "metadata": {},
   "outputs": [],
   "source": [
    "import pandas as pd\n",
    "import csv\n",
    "import numpy as np\n",
    "\n",
    "import tkinter as tk\n",
    "from tkinter import filedialog"
   ]
  },
  {
   "cell_type": "code",
   "execution_count": null,
   "metadata": {},
   "outputs": [],
   "source": [
    "folder =tk.filedialog.askdirectory()"
   ]
  },
  {
   "cell_type": "code",
   "execution_count": 5,
   "metadata": {},
   "outputs": [
    {
     "name": "stdout",
     "output_type": "stream",
     "text": [
      "Please Enter Date Here:20200311\n"
     ]
    }
   ],
   "source": [
    "DATE = input(\"Please Enter Date Here:\")"
   ]
  },
  {
   "cell_type": "code",
   "execution_count": 6,
   "metadata": {},
   "outputs": [],
   "source": [
    "#there are better ways to do this\n",
    "#defsecdic is a dictionary whose keys are the client's asset classes. And whose values are the 'ancestors' of the asset class\n",
    "defsecdic = {'Equity-US-Generic':['Equity-','Equity-US-','Equity-US-Generic'], 'Equity-Dev-Generic':['Equity-','Equity-Dev-','Equity-Dev-Generic'], 'Equity-Emerg-Generic':['Equity-','Equity-Emerg-','Equity-Emerg-Generic'],'Fixed-Generic':['Fixed-','Fixed-Generic'], 'REIT-Generic':['REIT-','REIT-Generic'], 'Other-Generic':['Other-Generic','Other-'],'Equity-US-Large':['Equity-','Equity-US-','Equity-US-Large'], 'Equity-US-LargeGrowth':['Equity-','Equity-US-','Equity-US-LargeGrowth'], 'Equity-US-LargeValue':['Equity-','Equity-US-','Equity-US-LargeValue'],'Equity-US-Dividends':['Equity-','Equity-US-','Equity-US-Dividends'],'Equity-US-Micro':['Equity-','Equity-US-','Equity-US-Micro'],'Equity-US-Small':['Equity-','Equity-US-','Equity-US-Small'],'Equity-US-SmallGrowth':['Equity-','Equity-US-','Equity-US-SmallGrowth'],'Equity-US-SmallValue':['Equity-','Equity-US-','Equity-US-SmallValue'],'Equity-US-MarketTilt1':['Equity-','Equity-US-','Equity-US-MarketTilt1'],'Equity-US-MarketTilt2':['Equity-','Equity-US-','Equity-US-MarketTilt2'],'Equity-US-MarketTilt3':['Equity-','Equity-US-','Equity-US-MarketTilt3'],'Equity-US-Market':['Equity-','Equity-US-','Equity-US-Market'],'Equity-Dev-Large':['Equity-','Equity-Dev-','Equity-Dev-Large'],'Equity-Dev-LargeValue':['Equity-','Equity-Dev-','Equity-Dev-LargeValue'],'Equity-Dev-Small':['Equity-','Equity-Dev-','Equity-Dev-Small'],'Equity-Dev-SmallValue':['Equity-','Equity-Dev-','Equity-Dev-SmallValue'],'Equity-Dev-MarketTilt1':['Equity-','Equity-Dev-','Equity-Dev-MarketTilt1'],'Equity-Dev-MarketTilt3':['Equity-','Equity-Dev-','Equity-Dev-MarketTilt3'],'Equity-Dev-Europe':['Equity-','Equity-Dev-','Equity-Dev-Europe'],'Equity-Dev-Pacific':['Equity-','Equity-Dev-','Equity-Dev-Pacific'],'Equity-Emerg-Large':['Equity-','Equity-Emerg-','Equity-Emerg-Large'],'Equity-Emerg-LargeValue':['Equity-','Equity-Emerg-','Equity-Emerg-LargeValue'],'Equity-Emerg-Small':['Equity-','Equity-Emerg-','Equity-Emerg-Small'],'Equity-Emerg-MarketTilt1':['Equity-','Equity-Emerg-','Equity-Emerg-MarketTilt1'],'Equity-Emerg-ChinaLarge':['Equity-','Equity-Emerg-','Equity-Emerg-ChinaLarge'],'Equity-Emerg-ChinaSmall':['Equity-','Equity-Emerg-','Equity-Emerg-ChinaSmall'],'REIT-US':['REIT-','REIT-US'],'REIT-Intl':['REIT-','REIT-Intl'],'REIT-Global':['REIT-','REIT-Global'],'Fixed-USMarket':['Fixed-','Fixed-USMarket'],'Fixed-USDynamicCore':['Fixed-','Fixed-USDynamicCore'],'Fixed-USCorpInt':['Fixed-','Fixed-USCorpInt'],'Fixed-USShortInt':['Fixed-','Fixed-USShortInt'],'Fixed-CAMuniInt':['Fixed-','Fixed-CAMuniInt'],'Fixed-MuniInt':['Fixed-','Fixed-MuniInt'],'Fixed-MuniShort':['Fixed-','Fixed-MuniShort'],'Fixed-GlobalShort':['Fixed-','Fixed-GlobalShort'],'Fixed-GlobalInt':['Fixed-','Fixed-GlobalInt'],'Fixed-IntlInt':['Fixed-','Fixed-IntlInt'],'Fixed-HighYield':['Fixed-','Fixed-HighYield'],'Fixed-TIPS':['Fixed-','Fixed-TIPS'],'Fixed-TIPSShort':['Fixed-','Fixed-TIPSShort'],'Fixed-USTreasuryShort':['Fixed-','Fixed-USTreasuryShort'],'Fixed-USGovInt':['Fixed-','Fixed-USGovInt'],'Other-CmdtyGold':['Other-','Other-CmdtyGold'],'Other-CmdtyMining':['Other-','Other-CmdtyMining'],'Other-CmdtyMarket':['Other-','Other-CmdtyMarket'],'Other-Unspecified':['Other-','Other-Unspecified'],'Other-Alternative':['Other-','Other-Alternative']}"
   ]
  },
  {
   "cell_type": "code",
   "execution_count": 7,
   "metadata": {},
   "outputs": [],
   "source": [
    "dd = pd.read_csv(folder + \"/defsecuritychoices.csv\", header = None)\n",
    "\n",
    "#default security choices\n",
    "dd = dd.iloc[:,[0,1,3,4,5,6]]\n",
    "dd = dd.rename(columns = {0:'group',1:'subgroup'})\n",
    "dd['concat'] = dd['group']+dd['subgroup']\n",
    "dd = dd.drop(['group','subgroup'], axis = 1)\n",
    "dd = dd.rename(columns = {'concat': 'asset'})\n",
    "dd = dd.set_index('asset')\n",
    "dd = dd.rename(columns={3:0, 4:1, 5:2, 6:3})\n",
    "defsec = dd.index.values.tolist()"
   ]
  },
  {
   "cell_type": "code",
   "execution_count": 8,
   "metadata": {},
   "outputs": [],
   "source": [
    "#setupfamily data splicing\n",
    "ds = pd.read_csv(folder + \"/setupfamily.csv\", index_col=0)\n",
    "\n",
    "#splice out Class0, Class1, Class2\n",
    "df0 = ds.loc['Class0']\n",
    "df0 = df0.iloc[:,[0,1]]\n",
    "\n",
    "df1 = ds.loc['Class1']\n",
    "df1 = df1.iloc[:,[0,1]]\n",
    "\n",
    "df2 = ds.loc['Class2']\n",
    "df2 = df2.iloc[:,[0,1]]\n",
    "\n",
    "frames = [df0,df1,df2]\n",
    "\n",
    "#df = percentages associated with each asset\n",
    "df = pd.concat(frames)\n",
    "df = df.rename(columns = {'Unnamed: 1':'assets','Unnamed: 2':'target'})\n",
    "assetlist = df['assets'].tolist()\n",
    "df = df.set_index('assets')\n",
    "\n",
    "#dsad = additions. This comes from the Legacy rows. we turn this information into a dictionary\n",
    "dsad = ds.loc['Legacy']\n",
    "dsad = dsad.iloc[:,[0,1]]\n",
    "dsad = dsad.rename(columns = {'Unnamed: 1': 'assets', 'Unnamed: 2': 'symbols'})\n",
    "dsad = dsad.set_index('assets')\n",
    "dsad = dsad.T\n",
    "dsad = dsad.groupby(dsad.columns.values, axis=1).agg(lambda x: x.values.tolist()).sum().apply(pd.Series).T\n",
    "ad_dict = dsad.to_dict('list')\n",
    "\n",
    "#dsov = override. We also turn this into a dictionary\n",
    "i = ds.index.get_loc('ClassDefine')\n",
    "j = ds.index.get_loc('EndClassDefine')\n",
    "dsov = ds.iloc[i+1:j]\n",
    "dsov = dsov.drop(dsov.columns[[1,6,7]], axis=1)\n",
    "dsov = dsov.reset_index()\n",
    "dsov = dsov.rename(columns={'FSV2_0': 'Class0', 'Unnamed: 1': 'Class12'})\n",
    "dsov['name'] = dsov['Class0'] + dsov['Class12']\n",
    "dsov = dsov.drop(['Class0','Class12'], axis = 1)\n",
    "dsov = dsov.set_index('name')\n",
    "dsov = dsov.T\n",
    "ov_dict = dsov.to_dict('list')"
   ]
  },
  {
   "cell_type": "code",
   "execution_count": 9,
   "metadata": {
    "scrolled": true
   },
   "outputs": [],
   "source": [
    "#security choices edited\n",
    "\n",
    "#add a bunch of NaNs \n",
    "n=len(defsec)\n",
    "m = len(dsad.iloc[:,0].tolist())\n",
    "nanarray = np.zeros((n,m))\n",
    "nanarray[:] = np.nan\n",
    "\n",
    "dfnan = pd.DataFrame(nanarray, index = dd.index)\n",
    "\n",
    "#apply override\n",
    "for x in defsec:\n",
    "    if x in ov_dict:\n",
    "        dd.loc[x] = ov_dict[x]\n",
    "        \n",
    "ddf = dd.join(dfnan, lsuffix='_filler', rsuffix='_other')\n",
    "\n",
    "#apply additions\n",
    "for x in defsec:\n",
    "    if x in ad_dict:\n",
    "        i = ddf.index.get_loc(x)\n",
    "        ddf.iloc[i,4:m+4] = ad_dict[x]\n",
    "\n",
    "        \n",
    "#create dictiomary of new security choices\n",
    "choices_dict = ddf.T.to_dict('list')\n",
    "\n",
    "#clean out repeated info\n",
    "altsecdict = {a:list(set(b)) for a, b in choices_dict.items()}\n",
    "#clean out nans\n",
    "for x in altsecdict:\n",
    "    xclean = [y for y in altsecdict[x] if str(y) != 'nan']\n",
    "    altsecdict[x] = xclean"
   ]
  },
  {
   "cell_type": "code",
   "execution_count": 11,
   "metadata": {
    "scrolled": true
   },
   "outputs": [],
   "source": [
    "#recent\n",
    "dr = pd.read_csv(folder + \"/recent.csv\", header = 2, index_col = ['SYMBOL'], usecols = ['SYMBOL','MARKETVALUE'])\n",
    "\n",
    "#find positions that say'SYMBOL'\n",
    "end = dr.index.get_loc('SYMBOL')\n",
    "y = [i for i, x in enumerate(end) if x]\n",
    "\n",
    "#cut off irrelavent data\n",
    "dr = dr.iloc[0:y[0]-1]\n",
    "\n",
    "#sum values with same SYMBOL\n",
    "dr = dr.astype({'MARKETVALUE': np.float64})\n",
    "dr = dr.groupby(dr.index).sum()\n",
    "\n",
    "#splice out all SYMBOLS with 'CASH' in their name and add up value\n",
    "dcash = dr[['CASH' in s for s in dr.index]]\n",
    "casu = dcash.sum(axis=0).MARKETVALUE.item()\n",
    "dcasu = pd.DataFrame({'SYMBOL':['CASH'], 'MARKETVALUE':[casu]}).set_index('SYMBOL')\n",
    "dr = dr.drop(axis = 0, labels = dcash.index)\n",
    "dr = dr.append(dcasu)\n",
    "\n",
    "#print(altsecdict)\n",
    "#edit security choices dictionary to only include symbols that are in recent file\n",
    "for x in altsecdict:\n",
    "    altsecdict[x] = [y for y in dr.index.tolist() if y in altsecdict[x]]\n",
    "#remove keys with no symbols associated to them\n",
    "altsecdict = {k: v for k, v in altsecdict.items() if v}"
   ]
  },
  {
   "cell_type": "code",
   "execution_count": 12,
   "metadata": {},
   "outputs": [],
   "source": [
    "#update actual based on date\n",
    "\n",
    "filename = 'Schwab-' + DATE\n",
    "\n",
    "dup = pd.read_csv(folder + '/' + filename + '.csv', header = None)\n",
    "dup = dup.iloc[:,[1,2,3]]\n",
    "dup = dup.rename(columns = {1: 'action',2:'amount',3:'SYMBOL'}).set_index('SYMBOL')\n",
    "dup = dup.astype({'amount':np.float64})\n",
    "\n",
    "drup = dr.copy()\n",
    "\n",
    "for x in dup.index:\n",
    "    if dup.loc[x,'action'] == 'SELLALL':\n",
    "        drup.loc[x,'MARKETVALUE'] = 0\n",
    "    if dup.loc[x,'action'] == 'SELL':\n",
    "        drup.loc[x,'MARKETVALUE'] = drup.loc[x,'MARKETVALUE'] - dup.loc[x,'amount']\n",
    "    if dup.loc[x,'action'] == 'BUY':\n",
    "        drup.loc[x,'MARKETVALUE'] = drup.loc[x,'MARKETVALUE'] + dup.loc[x,'amount']\n"
   ]
  },
  {
   "cell_type": "code",
   "execution_count": 15,
   "metadata": {},
   "outputs": [],
   "source": [
    "#get target percentages\n",
    "i=0\n",
    "lis = []\n",
    "\n",
    "for x in assetlist:\n",
    "    if x in defsecdic:\n",
    "        lis.append(x)\n",
    "        i+=1\n",
    "\n",
    "tar = np.zeros(i)\n",
    "act=np.zeros(i)\n",
    "actup = np.zeros(i)\n",
    "j=0\n",
    "for x in assetlist:\n",
    "    if x in defsecdic:\n",
    "        y = defsecdic[x]\n",
    "        dk=df.loc[y[:]]\n",
    "        dk = dk.T\n",
    "        dk = dk.apply(pd.to_numeric, errors='coerce')\n",
    "        dk = dk.product(axis = 1)\n",
    "        tar[j] = dk.values\n",
    "        j+=1"
   ]
  },
  {
   "cell_type": "code",
   "execution_count": 16,
   "metadata": {},
   "outputs": [],
   "source": [
    "#actual values (updated and not updated)\n",
    "\n",
    "j=0\n",
    "for x in assetlist:\n",
    "    if x in altsecdict:\n",
    "        z = altsecdict[x]\n",
    "        dq = dr.loc[z[:]]\n",
    "        dqup = drup.loc[z[:]]\n",
    "        dq = dq.T\n",
    "        dqup = dqup.T\n",
    "        dq = dq.sum(axis = 1)\n",
    "        dqup = dqup.sum(axis = 1)\n",
    "        act[j] = dq.values\n",
    "        actup[j] = dqup.values\n",
    "        j+=1\n",
    "\n",
    "s = act.sum()\n",
    "actp = act/s\n",
    "\n",
    "sup = actup.sum()\n",
    "actupp = actup/sup"
   ]
  },
  {
   "cell_type": "code",
   "execution_count": 17,
   "metadata": {
    "scrolled": false
   },
   "outputs": [
    {
     "name": "stdout",
     "output_type": "stream",
     "text": [
      "                            target    actual    future withinrange\n",
      "Fixed-GlobalInt           0.027000  0.039489  0.039293          no\n",
      "REIT-Global               0.075000  0.120790  0.120188          no\n",
      "Equity-US-Large           0.143680  0.080331  0.079930          no\n",
      "Equity-US-LargeValue      0.071840  0.066735  0.066403         yes\n",
      "Equity-US-LargeGrowth     0.071840  0.088927  0.088484          no\n",
      "Equity-US-Small           0.071840  0.074269  0.073899         yes\n",
      "Equity-US-SmallValue      0.089800  0.085356  0.084931         yes\n",
      "Equity-Dev-MarketTilt1    0.132904  0.142238  0.146512         yes\n",
      "Equity-Dev-LargeValue     0.116291  0.108825  0.108283         yes\n",
      "Equity-Dev-Small          0.083065  0.083566  0.083150         yes\n",
      "Equity-Emerg-MarketTilt1  0.081718  0.059478  0.059182          no\n",
      "Equity-Emerg-LargeValue   0.035022  0.049996  0.049747          no\n"
     ]
    }
   ],
   "source": [
    "output = pd.DataFrame({'target':tar,'actual':actp, 'future': actupp}, index = lis)\n",
    "output['withinrange'] = np.nan\n",
    "\n",
    "for x in output.index:\n",
    "    mn = output.loc[x,'target'] * 0.8\n",
    "    mx = output.loc[x,'target'] * 1.2\n",
    "    if mn < output.loc[x,'future'] < mx:\n",
    "        output.loc[x,'withinrange'] = 'yes'\n",
    "    else:\n",
    "        output.loc[x,'withinrange'] = 'no'\n",
    "\n",
    "print(output)"
   ]
  }
 ],
 "metadata": {
  "kernelspec": {
   "display_name": "Python 3",
   "language": "python",
   "name": "python3"
  },
  "language_info": {
   "codemirror_mode": {
    "name": "ipython",
    "version": 3
   },
   "file_extension": ".py",
   "mimetype": "text/x-python",
   "name": "python",
   "nbconvert_exporter": "python",
   "pygments_lexer": "ipython3",
   "version": "3.7.6"
  }
 },
 "nbformat": 4,
 "nbformat_minor": 4
}
