{
 "cells": [
  {
   "cell_type": "code",
   "execution_count": 1,
   "metadata": {
    "collapsed": false,
    "deletable": true,
    "editable": true
   },
   "outputs": [],
   "source": [
    "import pandas as pd  \n",
    "import csv\n",
    "import numpy as np\n",
    "\n",
    "import tkinter as tk\n",
    "from tkinter import filedialog"
   ]
  },
  {
   "cell_type": "code",
   "execution_count": null,
   "metadata": {
    "collapsed": false
   },
   "outputs": [],
   "source": [
    "print(pd.__path__)"
   ]
  },
  {
   "cell_type": "code",
   "execution_count": null,
   "metadata": {
    "collapsed": false,
    "deletable": true,
    "editable": true
   },
   "outputs": [],
   "source": [
    "print(pd.__version__)"
   ]
  },
  {
   "cell_type": "code",
   "execution_count": 2,
   "metadata": {
    "collapsed": true,
    "deletable": true,
    "editable": true
   },
   "outputs": [],
   "source": [
    "#select the assets folder\n",
    "#folder =tk.filedialog.askdirectory()\n",
    "folder = '/Users/evansawyer/Desktop/assets'"
   ]
  },
  {
   "cell_type": "code",
   "execution_count": 3,
   "metadata": {
    "collapsed": false,
    "deletable": true,
    "editable": true
   },
   "outputs": [
    {
     "name": "stdout",
     "output_type": "stream",
     "text": [
      "Please Enter Client Name Here:ChangChu\n"
     ]
    }
   ],
   "source": [
    "CLIENT = input(\"Please Enter Client Name Here:\")"
   ]
  },
  {
   "cell_type": "code",
   "execution_count": 4,
   "metadata": {
    "collapsed": false,
    "deletable": true,
    "editable": true
   },
   "outputs": [
    {
     "name": "stdout",
     "output_type": "stream",
     "text": [
      "Please Enter Date of Trade Here (year month day):20200501\n"
     ]
    }
   ],
   "source": [
    "DATE = input(\"Please Enter Date of Trade Here (year month day):\")"
   ]
  },
  {
   "cell_type": "code",
   "execution_count": 5,
   "metadata": {
    "collapsed": true,
    "deletable": true,
    "editable": true
   },
   "outputs": [],
   "source": [
    "#there are better ways to do this\n",
    "#defsecdic is a dictionary whose keys are the client's asset classes. And whose values are the 'ancestors' of the asset class\n",
    "defsecdic = {'Equity-US-Generic':['Equity-','Equity-US-','Equity-US-Generic'], 'Equity-Dev-Generic':['Equity-','Equity-Dev-','Equity-Dev-Generic'], 'Equity-Emerg-Generic':['Equity-','Equity-Emerg-','Equity-Emerg-Generic'],'Fixed-Generic':['Fixed-','Fixed-Generic'], 'REIT-Generic':['REIT-','REIT-Generic'], 'Other-Generic':['Other-Generic','Other-'],'Equity-US-Large':['Equity-','Equity-US-','Equity-US-Large'], 'Equity-US-LargeGrowth':['Equity-','Equity-US-','Equity-US-LargeGrowth'], 'Equity-US-LargeValue':['Equity-','Equity-US-','Equity-US-LargeValue'],'Equity-US-Dividends':['Equity-','Equity-US-','Equity-US-Dividends'],'Equity-US-Micro':['Equity-','Equity-US-','Equity-US-Micro'],'Equity-US-Small':['Equity-','Equity-US-','Equity-US-Small'],'Equity-US-SmallGrowth':['Equity-','Equity-US-','Equity-US-SmallGrowth'],'Equity-US-SmallValue':['Equity-','Equity-US-','Equity-US-SmallValue'],'Equity-US-MarketTilt1':['Equity-','Equity-US-','Equity-US-MarketTilt1'],'Equity-US-MarketTilt2':['Equity-','Equity-US-','Equity-US-MarketTilt2'],'Equity-US-MarketTilt3':['Equity-','Equity-US-','Equity-US-MarketTilt3'],'Equity-US-Market':['Equity-','Equity-US-','Equity-US-Market'],'Equity-Dev-Large':['Equity-','Equity-Dev-','Equity-Dev-Large'],'Equity-Dev-LargeValue':['Equity-','Equity-Dev-','Equity-Dev-LargeValue'],'Equity-Dev-Small':['Equity-','Equity-Dev-','Equity-Dev-Small'],'Equity-Dev-SmallValue':['Equity-','Equity-Dev-','Equity-Dev-SmallValue'],'Equity-Dev-MarketTilt1':['Equity-','Equity-Dev-','Equity-Dev-MarketTilt1'],'Equity-Dev-MarketTilt3':['Equity-','Equity-Dev-','Equity-Dev-MarketTilt3'],'Equity-Dev-Europe':['Equity-','Equity-Dev-','Equity-Dev-Europe'],'Equity-Dev-Pacific':['Equity-','Equity-Dev-','Equity-Dev-Pacific'],'Equity-Emerg-Large':['Equity-','Equity-Emerg-','Equity-Emerg-Large'],'Equity-Emerg-LargeValue':['Equity-','Equity-Emerg-','Equity-Emerg-LargeValue'],'Equity-Emerg-Small':['Equity-','Equity-Emerg-','Equity-Emerg-Small'],'Equity-Emerg-MarketTilt1':['Equity-','Equity-Emerg-','Equity-Emerg-MarketTilt1'],'Equity-Emerg-ChinaLarge':['Equity-','Equity-Emerg-','Equity-Emerg-ChinaLarge'],'Equity-Emerg-ChinaSmall':['Equity-','Equity-Emerg-','Equity-Emerg-ChinaSmall'],'REIT-US':['REIT-','REIT-US'],'REIT-Intl':['REIT-','REIT-Intl'],'REIT-Global':['REIT-','REIT-Global'],'Fixed-USMarket':['Fixed-','Fixed-USMarket'],'Fixed-USDynamicCore':['Fixed-','Fixed-USDynamicCore'],'Fixed-USCorpInt':['Fixed-','Fixed-USCorpInt'],'Fixed-USShortInt':['Fixed-','Fixed-USShortInt'],'Fixed-CAMuniInt':['Fixed-','Fixed-CAMuniInt'],'Fixed-MuniInt':['Fixed-','Fixed-MuniInt'],'Fixed-MuniShort':['Fixed-','Fixed-MuniShort'],'Fixed-GlobalShort':['Fixed-','Fixed-GlobalShort'],'Fixed-GlobalInt':['Fixed-','Fixed-GlobalInt'],'Fixed-IntlInt':['Fixed-','Fixed-IntlInt'],'Fixed-HighYield':['Fixed-','Fixed-HighYield'],'Fixed-TIPS':['Fixed-','Fixed-TIPS'],'Fixed-TIPSShort':['Fixed-','Fixed-TIPSShort'],'Fixed-USTreasuryShort':['Fixed-','Fixed-USTreasuryShort'],'Fixed-USGovInt':['Fixed-','Fixed-USGovInt'],'Other-CmdtyGold':['Other-','Other-CmdtyGold'],'Other-CmdtyMining':['Other-','Other-CmdtyMining'],'Other-CmdtyMarket':['Other-','Other-CmdtyMarket'],'Other-Unspecified':['Other-','Other-Unspecified'],'Other-Alternative':['Other-','Other-Alternative']}"
   ]
  },
  {
   "cell_type": "code",
   "execution_count": 6,
   "metadata": {
    "collapsed": false,
    "deletable": true,
    "editable": true
   },
   "outputs": [],
   "source": [
    "dd = pd.read_csv(folder + \"/defsecuritychoices.csv\", header = None)\n",
    "\n",
    "#default security choices\n",
    "dd = dd.iloc[:,[0,1,3,4,5,6]]\n",
    "dd = dd.rename(columns = {0:'group',1:'subgroup'})\n",
    "dd['concat'] = dd['group']+dd['subgroup']\n",
    "dd = dd.drop(['group','subgroup'], axis = 1)\n",
    "dd = dd.rename(columns = {'concat': 'asset'})\n",
    "dd = dd.set_index('asset')\n",
    "dd = dd.rename(columns={3:0, 4:1, 5:2, 6:3})\n",
    "defsec = dd.index.values.tolist()"
   ]
  },
  {
   "cell_type": "code",
   "execution_count": 7,
   "metadata": {
    "collapsed": false,
    "deletable": true,
    "editable": true
   },
   "outputs": [],
   "source": [
    "#setupfamily data splicing\n",
    "ds = pd.read_csv(folder + \"/familyfiles/\" + CLIENT + \"/setupfamily.csv\", index_col=0, names = list('0123456789'))\n",
    "\n",
    "#splice out Class0, Class1, Class2\n",
    "df0 = ds.loc['Class0']\n",
    "df0 = df0.iloc[:,[0,1]]\n",
    "df1 = ds.loc['Class1']\n",
    "df1 = df1.iloc[:,[0,1]]\n",
    "\n",
    "df2 = ds.loc['Class2']\n",
    "df2 = df2.iloc[:,[0,1]]\n",
    "\n",
    "frames = [df0,df1,df2]\n",
    "\n",
    "#df = percentages associated with each asset\n",
    "df = pd.concat(frames)\n",
    "df = df.rename(columns = {'1':'assets','2':'target'})\n",
    "assetlist = df['assets'].tolist()\n",
    "df = df.set_index('assets')\n",
    "\n",
    "#dsad = additions. This comes from the Legacy rows. we turn this information into a dictionary\n",
    "dsad = ds.loc['Legacy']\n",
    "dsad = dsad.iloc[:,[0,1]]\n",
    "dsad = dsad.rename(columns = {'1': 'assets', '2': 'symbols'})\n",
    "dsad = dsad.set_index('assets')\n",
    "dsad = dsad.T\n",
    "dsad = dsad.groupby(dsad.columns.values, axis=1).agg(lambda x: x.values.tolist()).sum().apply(pd.Series).T\n",
    "ad_dict = dsad.to_dict('list')\n",
    "\n",
    "#dsov = override. We also turn this into a dictionary\n",
    "i = ds.index.get_loc('ClassDefine')\n",
    "j = ds.index.get_loc('EndClassDefine')\n",
    "dsov = ds.iloc[i+1:j]\n",
    "dsov = dsov.drop(dsov.columns[[1,6,7]], axis=1)\n",
    "\n",
    "dsov = dsov.reset_index()\n",
    "dsov = dsov.rename(columns={'0': 'Class0', '1': 'Class12'})\n",
    "dsov['name'] = dsov['Class0'] + dsov['Class12']\n",
    "dsov = dsov.drop(['Class0','Class12'], axis = 1)\n",
    "dsov = dsov.set_index('name')\n",
    "dsov = dsov.T\n",
    "ov_dict = dsov.to_dict('list')"
   ]
  },
  {
   "cell_type": "code",
   "execution_count": 8,
   "metadata": {
    "collapsed": false,
    "deletable": true,
    "editable": true
   },
   "outputs": [],
   "source": [
    "#security choices edited\n",
    "\n",
    "#add a bunch of NaNs \n",
    "n=len(defsec)\n",
    "m = len(dsad.iloc[:,0].tolist())\n",
    "nanarray = np.zeros((n,m))\n",
    "nanarray[:] = np.nan\n",
    "\n",
    "dfnan = pd.DataFrame(nanarray, index = dd.index)\n",
    "\n",
    "#apply override\n",
    "for x in defsec:\n",
    "    if x in ov_dict:\n",
    "        dd.loc[x] = ov_dict[x]\n",
    "        \n",
    "ddf = dd.join(dfnan, lsuffix='_filler', rsuffix='_other')\n",
    "\n",
    "#apply additions\n",
    "for x in defsec:\n",
    "    if x in ad_dict:\n",
    "        i = ddf.index.get_loc(x)\n",
    "        ddf.iloc[i,4:m+4] = ad_dict[x]\n",
    "\n",
    "        \n",
    "#create dictiomary of new security choices\n",
    "choices_dict = ddf.T.to_dict('list')\n",
    "\n",
    "#clean out repeated info\n",
    "altsecdict = {a:list(set(b)) for a, b in choices_dict.items()}\n",
    "#clean out nans\n",
    "for x in altsecdict:\n",
    "    xclean = [y for y in altsecdict[x] if str(y) != 'nan']\n",
    "    altsecdict[x] = xclean"
   ]
  },
  {
   "cell_type": "code",
   "execution_count": 9,
   "metadata": {
    "collapsed": false,
    "deletable": true,
    "editable": true
   },
   "outputs": [],
   "source": [
    "#recent\n",
    "numbers = ['0','1','2','3','4','5','6','7','8','9','10','11','12','13','14','15','16','17','18','19','20']\n",
    "dr = pd.read_csv(folder + \"/familyfiles/\" + CLIENT + \"/recent.csv\", skiprows = 2, names = numbers)\n",
    "dr = dr.iloc[:,[3,11]]\n",
    "dr.columns = dr.iloc[0,:]\n",
    "dr =  dr.drop(0)\n",
    "\n",
    "\n",
    "dr = dr.set_index('SYMBOL')\n",
    "\n",
    "\n",
    "\n",
    "#find positions that say'SYMBOL'\n",
    "end = dr.index.get_loc('SYMBOL')\n",
    "y = [i for i, x in enumerate(end) if x]\n",
    "\n",
    "#cut off irrelavent data\n",
    "dr = dr.iloc[0:y[0]-1]\n",
    "\n",
    "#sum values with same SYMBOL\n",
    "dr = dr.astype({'MARKETVALUE': np.float64})\n",
    "dr = dr.groupby(dr.index).sum()\n",
    "\n",
    "\n",
    "#splice out all SYMBOLS with 'CASH' in their name and add up value\n",
    "dcash = dr[['CASH' in s for s in dr.index]]\n",
    "casu = dcash.sum(axis=0).MARKETVALUE.item()\n",
    "dcasu = pd.DataFrame({'SYMBOL':['CASH'], 'MARKETVALUE':[casu]}).set_index('SYMBOL')\n",
    "dr = dr.drop(axis = 0, labels = dcash.index)\n",
    "dr = dr.append(dcasu)\n",
    "\n",
    "#print(altsecdict)\n",
    "#edit security choices dictionary to only include symbols that are in recent file\n",
    "for x in altsecdict:\n",
    "    altsecdict[x] = [y for y in dr.index.tolist() if y in altsecdict[x]]\n",
    "#remove keys with no symbols associated to them\n",
    "altsecdict = {k: v for k, v in altsecdict.items() if v}"
   ]
  },
  {
   "cell_type": "code",
   "execution_count": 10,
   "metadata": {
    "collapsed": false,
    "deletable": true,
    "editable": true
   },
   "outputs": [],
   "source": [
    "#update actual based on date\n",
    "\n",
    "filename = 'Schwab-' + DATE\n",
    "\n",
    "dup = pd.read_csv(folder + '/familyfiles/' + CLIENT + '/' + 'trade/' + filename + '.csv', header = None)\n",
    "dup = dup.iloc[:,[1,2,3]]\n",
    "dup = dup.rename(columns = {1: 'action',2:'amount',3:'SYMBOL'}).set_index('SYMBOL')\n",
    "dup = dup.astype({'amount':np.float64})\n",
    "\n",
    "drup = dr.copy()\n",
    "\n",
    "for x in dup.index:\n",
    "    if dup.loc[x,'action'] == 'SELLALL':\n",
    "        drup.loc[x,'MARKETVALUE'] = 0\n",
    "    if dup.loc[x,'action'] == 'SELL':\n",
    "        drup.loc[x,'MARKETVALUE'] = drup.loc[x,'MARKETVALUE'] - dup.loc[x,'amount']\n",
    "    if dup.loc[x,'action'] == 'BUY':\n",
    "        drup.loc[x,'MARKETVALUE'] = drup.loc[x,'MARKETVALUE'] + dup.loc[x,'amount']\n"
   ]
  },
  {
   "cell_type": "code",
   "execution_count": 11,
   "metadata": {
    "collapsed": true,
    "deletable": true,
    "editable": true
   },
   "outputs": [],
   "source": [
    "#get target percentages\n",
    "i=0\n",
    "lis = []\n",
    "\n",
    "for x in assetlist:\n",
    "    if x in defsecdic:\n",
    "        lis.append(x)\n",
    "        i+=1\n",
    "\n",
    "tar = np.zeros(i)\n",
    "act=np.zeros(i)\n",
    "actup = np.zeros(i)\n",
    "j=0\n",
    "for x in assetlist:\n",
    "    if x in defsecdic:\n",
    "        y = defsecdic[x]\n",
    "        dk=df.loc[y[:]]\n",
    "        dk = dk.T\n",
    "        dk = dk.apply(pd.to_numeric, errors='coerce')\n",
    "        dk = dk.product(axis = 1)\n",
    "        tar[j] = dk.values\n",
    "        j+=1"
   ]
  },
  {
   "cell_type": "code",
   "execution_count": 12,
   "metadata": {
    "collapsed": true,
    "deletable": true,
    "editable": true
   },
   "outputs": [],
   "source": [
    "#actual values (updated and not updated)\n",
    "\n",
    "j=0\n",
    "for x in assetlist:\n",
    "    if x in altsecdict:\n",
    "        z = altsecdict[x]\n",
    "        dq = dr.loc[z[:]]\n",
    "        dqup = drup.loc[z[:]]\n",
    "        dq = dq.T\n",
    "        dqup = dqup.T\n",
    "        dq = dq.sum(axis = 1)\n",
    "        dqup = dqup.sum(axis = 1)\n",
    "        act[j] = dq.values\n",
    "        actup[j] = dqup.values\n",
    "        j+=1\n",
    "\n",
    "s = act.sum()\n",
    "actp = act/s\n",
    "\n",
    "sup = actup.sum()\n",
    "actupp = actup/sup"
   ]
  },
  {
   "cell_type": "code",
   "execution_count": 14,
   "metadata": {
    "collapsed": false,
    "deletable": true,
    "editable": true
   },
   "outputs": [
    {
     "name": "stdout",
     "output_type": "stream",
     "text": [
      "                           target    actual  updated by20200501 Low v High\n",
      "Fixed-USDynamicCore       0.12000  0.143874            0.143874        NaN\n",
      "Fixed-GlobalInt           0.08000  0.095461            0.095461        NaN\n",
      "Fixed-CAMuniInt           0.16000  0.182480            0.182480        NaN\n",
      "Fixed-TIPS                0.04000  0.047716            0.047716        NaN\n",
      "REIT-Global               0.05000  0.043198            0.043198        NaN\n",
      "Equity-US-MarketTilt2     0.21175  0.185787            0.185787        NaN\n",
      "Equity-US-Large           0.09625  0.098672            0.098672        NaN\n",
      "Equity-US-SmallValue      0.07700  0.060266            0.060266        low\n",
      "Equity-Dev-MarketTilt1    0.04400  0.037827            0.037827        NaN\n",
      "Equity-Dev-LargeValue     0.03850  0.034279            0.034279        NaN\n",
      "Equity-Dev-Small          0.02750  0.026005            0.026005        NaN\n",
      "Equity-Emerg-MarketTilt1  0.03850  0.033119            0.033119        NaN\n",
      "Equity-Emerg-LargeValue   0.01650  0.011316            0.011316        low\n"
     ]
    }
   ],
   "source": [
    "updated = 'updated by' + DATE\n",
    "output = pd.DataFrame({'target':tar,'actual':actp, updated: actupp}, index = lis)\n",
    "\n",
    "for x in output.index:\n",
    "    mn = output.loc[x,'target'] * 0.8\n",
    "    mx = output.loc[x,'target'] * 1.2\n",
    "    if output.loc[x,updated] < mn:\n",
    "        output.loc[x,'Low v High'] = 'low'\n",
    "    if output.loc[x,updated] > mx:\n",
    "        output.loc[x,'Low v High'] = 'high'\n",
    "\n",
    "print(output)"
   ]
  },
  {
   "cell_type": "code",
   "execution_count": null,
   "metadata": {
    "collapsed": false,
    "deletable": true,
    "editable": true
   },
   "outputs": [],
   "source": [
    "folder1 =tk.filedialog.askdirectory()\n",
    "filename = input(\"Please Enter Desired Filename Here:\")"
   ]
  },
  {
   "cell_type": "code",
   "execution_count": null,
   "metadata": {
    "collapsed": true,
    "deletable": true,
    "editable": true
   },
   "outputs": [],
   "source": [
    "output.to_csv(folder1 + '/' + filename + '.csv')"
   ]
  }
 ],
 "metadata": {
  "kernelspec": {
   "display_name": "Python 3",
   "language": "python",
   "name": "python3"
  },
  "language_info": {
   "codemirror_mode": {
    "name": "ipython",
    "version": 3
   },
   "file_extension": ".py",
   "mimetype": "text/x-python",
   "name": "python",
   "nbconvert_exporter": "python",
   "pygments_lexer": "ipython3",
   "version": "3.8.2"
  }
 },
 "nbformat": 4,
 "nbformat_minor": 2
}
